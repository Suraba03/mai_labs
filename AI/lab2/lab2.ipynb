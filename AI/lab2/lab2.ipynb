{
  "nbformat": 4,
  "nbformat_minor": 0,
  "metadata": {
    "colab": {
      "provenance": []
    },
    "kernelspec": {
      "name": "python3",
      "display_name": "Python 3"
    },
    "language_info": {
      "name": "python"
    }
  },
  "cells": [
    {
      "cell_type": "markdown",
      "source": [
        "# run: !pip install experta"
      ],
      "metadata": {
        "id": "_K1BqpV1Gm9g"
      }
    },
    {
      "cell_type": "code",
      "source": [
        "!pip install experta"
      ],
      "metadata": {
        "colab": {
          "base_uri": "https://localhost:8080/"
        },
        "id": "0g517_11G0Hk",
        "outputId": "b9cab438-d248-4c6b-8c5d-aa642b77560d"
      },
      "execution_count": null,
      "outputs": [
        {
          "output_type": "stream",
          "name": "stdout",
          "text": [
            "Looking in indexes: https://pypi.org/simple, https://us-python.pkg.dev/colab-wheels/public/simple/\n",
            "Requirement already satisfied: experta in /usr/local/lib/python3.9/dist-packages (1.9.4)\n",
            "Requirement already satisfied: schema==0.6.7 in /usr/local/lib/python3.9/dist-packages (from experta) (0.6.7)\n",
            "Requirement already satisfied: frozendict==1.2 in /usr/local/lib/python3.9/dist-packages (from experta) (1.2)\n"
          ]
        }
      ]
    },
    {
      "cell_type": "code",
      "source": [
        "from experta import *\n"
      ],
      "metadata": {
        "id": "P5tS07HAvUFj"
      },
      "execution_count": null,
      "outputs": []
    },
    {
      "cell_type": "markdown",
      "source": [
        "# facts\n",
        "- winter:\n",
        "    + groups:\n",
        "        * skates sports\n",
        "        * skis sports\n",
        "        * ice sports -- sledge, skates also\n",
        "    + skis\n",
        "    + skates\n",
        "    + ice\n",
        "    + sledge (bobsleigh, luge)\n",
        "- summer:\n",
        "    + groups:\n",
        "        * racket sports\n",
        "        * ball sports\n",
        "        * water sports\n",
        "        * fight sports\n",
        "        * dance (artistic) sports\n",
        "        * cycling sports\n",
        "    + gymnastics\n",
        "    + small ball\n",
        "    + big ball\n",
        "    + horse\n",
        "    + racket\n",
        "    + court\n",
        "    + bike\n"
      ],
      "metadata": {
        "id": "eEwyCKd5aOEE"
      }
    },
    {
      "cell_type": "code",
      "source": [
        "class Sports(KnowledgeEngine):\n",
        "# Дойти по графу знаний до winter или summer -- Слава\n",
        "\n",
        "# Подвиды спорта\n",
        "    @Rule(OR(AND(OR( Fact('Field'), Fact('Court')))), Fact('Ball'))\n",
        "    def ball_sports(self):\n",
        "        self.declare(Fact('Ball sports'))\n",
        "\n",
        "    @Rule(OR(Fact('Skates sports'),\n",
        "             AND(OR(Fact('Board'), Fact('Sledge')),\n",
        "                 OR(Fact('Solo'), Fact('Team')))))\n",
        "    def ice_sports(self):\n",
        "        self.declare(Fact('Ice sports'))\n",
        "\n",
        "    @Rule(OR( Fact('Small ball'), Fact('Big ball') ))\n",
        "    def ball(self):\n",
        "        self.declare(Fact('Ball'))\n",
        "\n",
        "    @Rule(AND( Fact('Racket'), OR( Fact('Field'), Fact('Court'), Fact('Ball'))))\n",
        "    def racket_sports(self):\n",
        "        self.declare(Fact('Racket sports'))\n",
        "\n",
        "    @Rule(OR( Fact('Swimming pool'), AND( Fact('Gates'), Fact('Water'))))\n",
        "    def water_sports(self):\n",
        "        self.declare(Fact('Water sports'))\n",
        "\n",
        "    @Rule(AND( Fact('1 on 1'), NOT(Fact('Ball')), NOT(Fact('Water sports'))))\n",
        "    def fight_sports(self):\n",
        "        self.declare(Fact('Fight Sports'))\n",
        "\n",
        "    @Rule(OR( Fact('Gymnastic'), Fact('Solo')))\n",
        "    def dance_artistic_sports(self):\n",
        "        self.declare(Fact('Dance sports'))\n",
        "        self.declare(Fact('Artistic sports'))\n",
        "\n",
        "    @Rule(AND( OR(Fact('Bike'), Fact('Vehicle')), OR( Fact('Solo'), Fact('Artistic sports'))))\n",
        "    def bike_sports(self):\n",
        "        self.declare(Fact('Cycling sports'))\n",
        "\n",
        "    @Rule(OR( Fact('Vehicle'), Fact('Skates'), Fact('Skis'), Fact('Solo')))\n",
        "    def speed_sports(self):\n",
        "        self.declare(Fact('Speed sports'))\n",
        "\n",
        "    @Rule(AND( OR( Fact('Skates'), Fact('Artistic sports')), Fact('Ice')))\n",
        "    def skates_sports(self):\n",
        "        self.declare(Fact('Skates sports'))\n",
        "\n",
        "    \n",
        "\n",
        "    @Rule(Fact('Skis'))\n",
        "    def skis_sports(self):\n",
        "        self.declare(Fact('Skis sports'))\n",
        "\n",
        "# определение summer и winter\n",
        "\n",
        "    @Rule(OR(AND(Fact('speed_sports'),\n",
        "                 OR(Fact('Ice'), Fact('Ski'), Fact('Board'))),\n",
        "             Fact('Cold')))\n",
        "    def winter(self):\n",
        "        self.declare(Fact('Winter'))\n",
        "    \n",
        "    @Rule(OR(Fact('Ball sports'), Fact('Racket sports'),\n",
        "             Fact('Water sports'), Fact('Fight sports'),\n",
        "             Fact('Dance sports'), Fact('Artistic sports'),\n",
        "             Fact('Cycling sports'),\n",
        "             AND(Fact('Speed sports'), Fact('Solo'),\n",
        "                 NOT(OR(Fact('Cycling sports'), Fact('Ice'),\n",
        "                        Fact('Ski'), Fact('Board'))))))\n",
        "    def summer(self):\n",
        "        self.declare(Fact('Summer'))\n",
        "\n",
        "\n",
        "\n",
        "\n",
        "# # winter sports -- Борис. Добавить факты, специфичные для зимних видов спорта\n",
        "    @Rule(AND(Fact('Winter'), Fact('Ice'), Fact('Hockey stick')))\n",
        "    def hockey(self):\n",
        "        self.declare(Fact(sport='Hockey'))\n",
        "\n",
        "    @Rule(Fact('Winter'), Fact('Ice'), Fact('Artistic sports'))\n",
        "    def figure_skating(self):\n",
        "        self.declare(Fact(sport='Figure skating'))\n",
        "\n",
        "    @Rule(Fact('Winter'), Fact('Skis sports'), Fact('Gun'))\n",
        "    def biathlon(self):\n",
        "        self.declare(Fact(sport='Biathlon'))\n",
        "\n",
        "    @Rule(Fact('Winter'), Fact('Skis sports'), Fact('Mountain'))\n",
        "    def alpine_skiing(self):\n",
        "        self.declare(Fact(sport='Alpine skiing')) # гонголыжный спорт\n",
        "    \n",
        "    @Rule(Fact('Winter'), Fact('Skis sports'), Fact('Race'))\n",
        "    def ski_race(self):\n",
        "        self.declare(Fact(sport='Ski race')) \n",
        "\n",
        "    @Rule(Fact('Winter'), Fact('Skis sports'), Fact('Springboard'))\n",
        "    def ski_jumping(self):\n",
        "        self.declare(Fact(sport='Ski jumping')) \n",
        "        \n",
        "    @Rule(AND(Fact('Ski jumping'), Fact('Ski race')))\n",
        "    def Nordic_combined(self):\n",
        "        self.declare(Fact(sport='Nordic combined'))\n",
        "    \n",
        "    @Rule(Fact('Skiing'), Fact('Mountaineering'))\n",
        "    def ski_mountaineering(self):\n",
        "        self.declare(Fact(sport='Ski mountaineering'))\n",
        "\n",
        "    @Rule(Fact('Ice'), NOT(Fact('Skates')))\n",
        "    def curling(self):\n",
        "        self.declare(Fact(sport='Curling'))\n",
        "\n",
        "    @Rule(Fact('Ice sports'), Fact('Race'))\n",
        "    def skating(self):\n",
        "        self.declare(Fact(sport='Skating')) #конькобежный спорт\n",
        "\n",
        "    @Rule(Fact('Ice sports'), Fact('Sledge'), Fact('Team'), Fact('Sitting'))\n",
        "    def bobsleigh(self):\n",
        "        self.declare(Fact(sport='Bobsleigh')) \n",
        "\n",
        "    @Rule(Fact('Ice sports'), Fact('Sledge'), (Fact('Solo')))\n",
        "    def luge(self):\n",
        "        self.declare(Fact(sport='Luge')) \n",
        "\n",
        "    @Rule(Fact('Ice sports'), Fact('Sledge'), Fact('Team'), Fact('Lie on the stomach'))\n",
        "    def skeleton(self):\n",
        "        self.declare(Fact(sport='Skeleton')) \n",
        "\n",
        "    @Rule(Fact('Winter'), Fact('Board'))\n",
        "    def snowboard(self):\n",
        "        self.declare(Fact(sport='Snowboard'))\n",
        "    \n",
        "    @Rule(Fact('Winter'), OR(Fact('Skis sports'), Fact('Snowboard')), Fact('Tricks'))\n",
        "    def freestyle(self):\n",
        "        self.declare(Fact(sport='Freestyle')) \n",
        "    \n",
        "    \n",
        "\n",
        "    \n",
        "\n",
        "\n",
        "\n",
        "\n",
        "# # summer sports -- Савелий. Добавить факты, специфичные для летних видов спорта \n",
        "    @Rule(AND(Fact('Summer'),\n",
        "          Fact('Outdoor_sports'), \n",
        "          Fact('Bow'), Fact('Arrow'), Fact('Target')))\n",
        "    def archery(self):\n",
        "        self.declare(Fact('Archery'))\n",
        "    \n",
        "    @Rule(AND(Fact('Large_hall'), Fact('Sports_equipment')))\n",
        "    def gym_sports(self):\n",
        "        self.declare(Fact('Gym_sports'))\n",
        "    \n",
        "    @Rule(AND(Fact('Field'), Fact('Sports_equipment')))\n",
        "    def outdoor_sports(self):\n",
        "        self.declare(Fact('Outdoor_sports')) \n",
        "\n",
        "# сами виды спорта\n",
        "\n",
        "    @Rule(AND(Fact('Summer'),\n",
        "          Fact('Gym_sports'), \n",
        "          Fact('Ball_game'), \n",
        "          Fact('Two baskets'), Fact(pattern='Yellow lines')))\n",
        "    def basketball(self):\n",
        "        self.declare(Fact(sport='Basketball'))\n",
        "\n",
        "    @Rule(AND(Fact('Summer'),\n",
        "          Fact('Gym_sports'), \n",
        "          Fact('Ring'), Fact('Gloves'), Fact('2 peoples')))\n",
        "    def boxing(self):\n",
        "        self.declare(Fact(sport='Boxing'))\n",
        "\n",
        "    @Rule(AND(Fact('Summer'),\n",
        "          Fact('Gym_sports'), \n",
        "          Fact('Ball_game'),  \n",
        "          Fact('Net'), Fact(pattern='3 colors')))\n",
        "    def volleyball(self):\n",
        "        self.declare(Fact(sport='Volleyball'))\n",
        "\n",
        "    @Rule(AND(Fact('Summer'), \n",
        "          Fact('Water_sports'), \n",
        "          Fact('Tower')))\n",
        "    def diving(self):\n",
        "        self.declare(Fact(sport='Diving'))\n",
        "\n",
        "    @Rule(AND(Fact('Summer'),\n",
        "          Fact('Gym_sports'), \n",
        "          Fact('Rapier'), Fact('Mask')))\n",
        "    def fencing(self):\n",
        "        self.declare(Fact(sport='Fencing'))\n",
        "\n",
        "    @Rule(AND(Fact('Summer'),\n",
        "          Fact('Gym_sports'), \n",
        "          Fact('Ball_game'), \n",
        "          Fact('Large field'), Fact('2 gates'), Fact(pattern='Black spots')))\n",
        "    def football(self):\n",
        "        self.declare(Fact(sport='Football'))\n",
        "\n",
        "    @Rule(AND(Fact('Summer'),\n",
        "          Fact('Water_sports'),\n",
        "          Fact('Multiple_tracks'), Fact('Timers')))\n",
        "    def swimming(self):\n",
        "        self.declare(Fact(sport='Swimming'))\n",
        "\n",
        "    @Rule(AND(Fact('Summer'),\n",
        "          Fact('Gym_sports'),\n",
        "          Fact('Table'), Fact('2 rackets'), Fact('Net')))\n",
        "    def table_tennis(self):\n",
        "        self.declare(Fact(sport='Table_tennis'))\n",
        "\n",
        "# тут что-то ещё пусть Слава разбирается -- ок бро лучший\n",
        "    @Rule(Fact(sport=MATCH.a))\n",
        "    def print_result(self,a):\n",
        "          print('Sport - {}'.format(a))\n",
        "                    \n",
        "    def factz(self,l):\n",
        "        for x in l:\n",
        "            self.declare(x)"
      ],
      "metadata": {
        "id": "ez21Pc1LxbYD"
      },
      "execution_count": 8,
      "outputs": []
    },
    {
      "cell_type": "code",
      "source": [
        "ex1 = Sports()\n"
      ],
      "metadata": {
        "id": "C5MxV0rkxcBY"
      },
      "execution_count": 10,
      "outputs": []
    },
    {
      "cell_type": "code",
      "source": [],
      "metadata": {
        "id": "MFOi7Qh_NTx_"
      },
      "execution_count": null,
      "outputs": []
    },
    {
      "cell_type": "code",
      "source": [],
      "metadata": {
        "id": "leSmlYCKxcD0"
      },
      "execution_count": null,
      "outputs": []
    },
    {
      "cell_type": "code",
      "source": [],
      "metadata": {
        "id": "Dl_vCHWTxcGB"
      },
      "execution_count": null,
      "outputs": []
    },
    {
      "cell_type": "code",
      "source": [],
      "metadata": {
        "id": "wtroIFjyxcIa"
      },
      "execution_count": null,
      "outputs": []
    },
    {
      "cell_type": "code",
      "source": [],
      "metadata": {
        "id": "0kj7IbvOxcKZ"
      },
      "execution_count": null,
      "outputs": []
    },
    {
      "cell_type": "code",
      "source": [],
      "metadata": {
        "id": "YGbuezwwxcNS"
      },
      "execution_count": null,
      "outputs": []
    }
  ]
}